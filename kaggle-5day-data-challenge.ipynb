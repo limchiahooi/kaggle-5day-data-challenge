{
 "cells": [
  {
   "cell_type": "markdown",
   "metadata": {},
   "source": [
    "# Kaggle - The 5-Day Data Challenge\n",
    "<br>\n",
    "New to data science? Need a quick refresher? This five day challenge will give you the guidance and support you need to kick-start your data science journey.\n",
    "\n",
    "By the time you finish this challenge, you will:\n",
    "\n",
    "-    Read in and summarize data\n",
    "-    Visualize both numeric and categorical data\n",
    "-    Know when and how to use two foundational statistical tests (t-test and chi-squared)\n",
    "\n",
    "The 5-Day Data Challenge originally ran from October 23, 2017 to October 27, 2017. I've collected all the material here so you can do it at your own pace. Feel free to ask questions on the forums or this notebook if you need a hand."
   ]
  },
  {
   "cell_type": "markdown",
   "metadata": {},
   "source": [
    "---\n",
    "### Day 1: Reading data into a kernel\n",
    "<br>\n",
    "**What are we doing today?**\n",
    "\n",
    "We will read (or import) data into a kernel and summarize it using R or Python. If you're new to coding, go ahead and try the exercise in both languages so you can see what they're like.\n",
    "\n",
    "**What data do you need?**\n",
    "\n",
    "For today’s challenge, you’re going to need a dataset that has a .csv file in it. “CSV” stands for “comma separated values”, and is a way of storing a spreadsheet where each row is a new line and there’s a comma between each value. You can see if a dataset has a .csv in it by going to a dataset, clicking on the “Data” tab at the top (under the heading picture) and seeing if there are any files that have the .csv extension. If you’re having trouble finding a dataset, check out this blog post for some pointers.\n",
    "\n",
    "\n",
    "**Dataset sources**: \n",
    "1. 80 Cereals - Nutrition data on 80 cereal products (https://www.kaggle.com/crawford/80-cereals)\n",
    "2. 5-Day Data Challenge Sign-Up Survey Responses (https://www.kaggle.com/rtatman/5day-data-challenge-signup-survey-responses)\n",
    "\n",
    "<br>"
   ]
  },
  {
   "cell_type": "code",
   "execution_count": 1,
   "metadata": {},
   "outputs": [
    {
     "data": {
      "text/html": [
       "<div>\n",
       "<style scoped>\n",
       "    .dataframe tbody tr th:only-of-type {\n",
       "        vertical-align: middle;\n",
       "    }\n",
       "\n",
       "    .dataframe tbody tr th {\n",
       "        vertical-align: top;\n",
       "    }\n",
       "\n",
       "    .dataframe thead th {\n",
       "        text-align: right;\n",
       "    }\n",
       "</style>\n",
       "<table border=\"1\" class=\"dataframe\">\n",
       "  <thead>\n",
       "    <tr style=\"text-align: right;\">\n",
       "      <th></th>\n",
       "      <th>name</th>\n",
       "      <th>mfr</th>\n",
       "      <th>type</th>\n",
       "      <th>calories</th>\n",
       "      <th>protein</th>\n",
       "      <th>fat</th>\n",
       "      <th>sodium</th>\n",
       "      <th>fiber</th>\n",
       "      <th>carbo</th>\n",
       "      <th>sugars</th>\n",
       "      <th>potass</th>\n",
       "      <th>vitamins</th>\n",
       "      <th>shelf</th>\n",
       "      <th>weight</th>\n",
       "      <th>cups</th>\n",
       "      <th>rating</th>\n",
       "    </tr>\n",
       "  </thead>\n",
       "  <tbody>\n",
       "    <tr>\n",
       "      <th>0</th>\n",
       "      <td>100% Bran</td>\n",
       "      <td>N</td>\n",
       "      <td>C</td>\n",
       "      <td>70</td>\n",
       "      <td>4</td>\n",
       "      <td>1</td>\n",
       "      <td>130</td>\n",
       "      <td>10.0</td>\n",
       "      <td>5.0</td>\n",
       "      <td>6</td>\n",
       "      <td>280</td>\n",
       "      <td>25</td>\n",
       "      <td>3</td>\n",
       "      <td>1.0</td>\n",
       "      <td>0.33</td>\n",
       "      <td>68.402973</td>\n",
       "    </tr>\n",
       "    <tr>\n",
       "      <th>1</th>\n",
       "      <td>100% Natural Bran</td>\n",
       "      <td>Q</td>\n",
       "      <td>C</td>\n",
       "      <td>120</td>\n",
       "      <td>3</td>\n",
       "      <td>5</td>\n",
       "      <td>15</td>\n",
       "      <td>2.0</td>\n",
       "      <td>8.0</td>\n",
       "      <td>8</td>\n",
       "      <td>135</td>\n",
       "      <td>0</td>\n",
       "      <td>3</td>\n",
       "      <td>1.0</td>\n",
       "      <td>1.00</td>\n",
       "      <td>33.983679</td>\n",
       "    </tr>\n",
       "    <tr>\n",
       "      <th>2</th>\n",
       "      <td>All-Bran</td>\n",
       "      <td>K</td>\n",
       "      <td>C</td>\n",
       "      <td>70</td>\n",
       "      <td>4</td>\n",
       "      <td>1</td>\n",
       "      <td>260</td>\n",
       "      <td>9.0</td>\n",
       "      <td>7.0</td>\n",
       "      <td>5</td>\n",
       "      <td>320</td>\n",
       "      <td>25</td>\n",
       "      <td>3</td>\n",
       "      <td>1.0</td>\n",
       "      <td>0.33</td>\n",
       "      <td>59.425505</td>\n",
       "    </tr>\n",
       "    <tr>\n",
       "      <th>3</th>\n",
       "      <td>All-Bran with Extra Fiber</td>\n",
       "      <td>K</td>\n",
       "      <td>C</td>\n",
       "      <td>50</td>\n",
       "      <td>4</td>\n",
       "      <td>0</td>\n",
       "      <td>140</td>\n",
       "      <td>14.0</td>\n",
       "      <td>8.0</td>\n",
       "      <td>0</td>\n",
       "      <td>330</td>\n",
       "      <td>25</td>\n",
       "      <td>3</td>\n",
       "      <td>1.0</td>\n",
       "      <td>0.50</td>\n",
       "      <td>93.704912</td>\n",
       "    </tr>\n",
       "    <tr>\n",
       "      <th>4</th>\n",
       "      <td>Almond Delight</td>\n",
       "      <td>R</td>\n",
       "      <td>C</td>\n",
       "      <td>110</td>\n",
       "      <td>2</td>\n",
       "      <td>2</td>\n",
       "      <td>200</td>\n",
       "      <td>1.0</td>\n",
       "      <td>14.0</td>\n",
       "      <td>8</td>\n",
       "      <td>-1</td>\n",
       "      <td>25</td>\n",
       "      <td>3</td>\n",
       "      <td>1.0</td>\n",
       "      <td>0.75</td>\n",
       "      <td>34.384843</td>\n",
       "    </tr>\n",
       "  </tbody>\n",
       "</table>\n",
       "</div>"
      ],
      "text/plain": [
       "                        name mfr type  calories  protein  fat  sodium  fiber  \\\n",
       "0                  100% Bran   N    C        70        4    1     130   10.0   \n",
       "1          100% Natural Bran   Q    C       120        3    5      15    2.0   \n",
       "2                   All-Bran   K    C        70        4    1     260    9.0   \n",
       "3  All-Bran with Extra Fiber   K    C        50        4    0     140   14.0   \n",
       "4             Almond Delight   R    C       110        2    2     200    1.0   \n",
       "\n",
       "   carbo  sugars  potass  vitamins  shelf  weight  cups     rating  \n",
       "0    5.0       6     280        25      3     1.0  0.33  68.402973  \n",
       "1    8.0       8     135         0      3     1.0  1.00  33.983679  \n",
       "2    7.0       5     320        25      3     1.0  0.33  59.425505  \n",
       "3    8.0       0     330        25      3     1.0  0.50  93.704912  \n",
       "4   14.0       8      -1        25      3     1.0  0.75  34.384843  "
      ]
     },
     "execution_count": 1,
     "metadata": {},
     "output_type": "execute_result"
    }
   ],
   "source": [
    "# import libraries\n",
    "%matplotlib inline\n",
    "import numpy as np\n",
    "import pandas as pd\n",
    "import matplotlib.pyplot as plt\n",
    "\n",
    "# read in and show the first few lines\n",
    "cereal = pd.read_csv(\"data/cereal.csv\")\n",
    "cereal.head()"
   ]
  },
  {
   "cell_type": "code",
   "execution_count": 2,
   "metadata": {},
   "outputs": [
    {
     "name": "stdout",
     "output_type": "stream",
     "text": [
      "(77, 16)\n"
     ]
    },
    {
     "data": {
      "text/html": [
       "<div>\n",
       "<style scoped>\n",
       "    .dataframe tbody tr th:only-of-type {\n",
       "        vertical-align: middle;\n",
       "    }\n",
       "\n",
       "    .dataframe tbody tr th {\n",
       "        vertical-align: top;\n",
       "    }\n",
       "\n",
       "    .dataframe thead th {\n",
       "        text-align: right;\n",
       "    }\n",
       "</style>\n",
       "<table border=\"1\" class=\"dataframe\">\n",
       "  <thead>\n",
       "    <tr style=\"text-align: right;\">\n",
       "      <th></th>\n",
       "      <th>calories</th>\n",
       "      <th>protein</th>\n",
       "      <th>fat</th>\n",
       "      <th>sodium</th>\n",
       "      <th>fiber</th>\n",
       "      <th>carbo</th>\n",
       "      <th>sugars</th>\n",
       "      <th>potass</th>\n",
       "      <th>vitamins</th>\n",
       "      <th>shelf</th>\n",
       "      <th>weight</th>\n",
       "      <th>cups</th>\n",
       "      <th>rating</th>\n",
       "    </tr>\n",
       "  </thead>\n",
       "  <tbody>\n",
       "    <tr>\n",
       "      <th>count</th>\n",
       "      <td>77.000000</td>\n",
       "      <td>77.000000</td>\n",
       "      <td>77.000000</td>\n",
       "      <td>77.000000</td>\n",
       "      <td>77.000000</td>\n",
       "      <td>77.000000</td>\n",
       "      <td>77.000000</td>\n",
       "      <td>77.000000</td>\n",
       "      <td>77.000000</td>\n",
       "      <td>77.000000</td>\n",
       "      <td>77.000000</td>\n",
       "      <td>77.000000</td>\n",
       "      <td>77.000000</td>\n",
       "    </tr>\n",
       "    <tr>\n",
       "      <th>mean</th>\n",
       "      <td>106.883117</td>\n",
       "      <td>2.545455</td>\n",
       "      <td>1.012987</td>\n",
       "      <td>159.675325</td>\n",
       "      <td>2.151948</td>\n",
       "      <td>14.597403</td>\n",
       "      <td>6.922078</td>\n",
       "      <td>96.077922</td>\n",
       "      <td>28.246753</td>\n",
       "      <td>2.207792</td>\n",
       "      <td>1.029610</td>\n",
       "      <td>0.821039</td>\n",
       "      <td>42.665705</td>\n",
       "    </tr>\n",
       "    <tr>\n",
       "      <th>std</th>\n",
       "      <td>19.484119</td>\n",
       "      <td>1.094790</td>\n",
       "      <td>1.006473</td>\n",
       "      <td>83.832295</td>\n",
       "      <td>2.383364</td>\n",
       "      <td>4.278956</td>\n",
       "      <td>4.444885</td>\n",
       "      <td>71.286813</td>\n",
       "      <td>22.342523</td>\n",
       "      <td>0.832524</td>\n",
       "      <td>0.150477</td>\n",
       "      <td>0.232716</td>\n",
       "      <td>14.047289</td>\n",
       "    </tr>\n",
       "    <tr>\n",
       "      <th>min</th>\n",
       "      <td>50.000000</td>\n",
       "      <td>1.000000</td>\n",
       "      <td>0.000000</td>\n",
       "      <td>0.000000</td>\n",
       "      <td>0.000000</td>\n",
       "      <td>-1.000000</td>\n",
       "      <td>-1.000000</td>\n",
       "      <td>-1.000000</td>\n",
       "      <td>0.000000</td>\n",
       "      <td>1.000000</td>\n",
       "      <td>0.500000</td>\n",
       "      <td>0.250000</td>\n",
       "      <td>18.042851</td>\n",
       "    </tr>\n",
       "    <tr>\n",
       "      <th>25%</th>\n",
       "      <td>100.000000</td>\n",
       "      <td>2.000000</td>\n",
       "      <td>0.000000</td>\n",
       "      <td>130.000000</td>\n",
       "      <td>1.000000</td>\n",
       "      <td>12.000000</td>\n",
       "      <td>3.000000</td>\n",
       "      <td>40.000000</td>\n",
       "      <td>25.000000</td>\n",
       "      <td>1.000000</td>\n",
       "      <td>1.000000</td>\n",
       "      <td>0.670000</td>\n",
       "      <td>33.174094</td>\n",
       "    </tr>\n",
       "    <tr>\n",
       "      <th>50%</th>\n",
       "      <td>110.000000</td>\n",
       "      <td>3.000000</td>\n",
       "      <td>1.000000</td>\n",
       "      <td>180.000000</td>\n",
       "      <td>2.000000</td>\n",
       "      <td>14.000000</td>\n",
       "      <td>7.000000</td>\n",
       "      <td>90.000000</td>\n",
       "      <td>25.000000</td>\n",
       "      <td>2.000000</td>\n",
       "      <td>1.000000</td>\n",
       "      <td>0.750000</td>\n",
       "      <td>40.400208</td>\n",
       "    </tr>\n",
       "    <tr>\n",
       "      <th>75%</th>\n",
       "      <td>110.000000</td>\n",
       "      <td>3.000000</td>\n",
       "      <td>2.000000</td>\n",
       "      <td>210.000000</td>\n",
       "      <td>3.000000</td>\n",
       "      <td>17.000000</td>\n",
       "      <td>11.000000</td>\n",
       "      <td>120.000000</td>\n",
       "      <td>25.000000</td>\n",
       "      <td>3.000000</td>\n",
       "      <td>1.000000</td>\n",
       "      <td>1.000000</td>\n",
       "      <td>50.828392</td>\n",
       "    </tr>\n",
       "    <tr>\n",
       "      <th>max</th>\n",
       "      <td>160.000000</td>\n",
       "      <td>6.000000</td>\n",
       "      <td>5.000000</td>\n",
       "      <td>320.000000</td>\n",
       "      <td>14.000000</td>\n",
       "      <td>23.000000</td>\n",
       "      <td>15.000000</td>\n",
       "      <td>330.000000</td>\n",
       "      <td>100.000000</td>\n",
       "      <td>3.000000</td>\n",
       "      <td>1.500000</td>\n",
       "      <td>1.500000</td>\n",
       "      <td>93.704912</td>\n",
       "    </tr>\n",
       "  </tbody>\n",
       "</table>\n",
       "</div>"
      ],
      "text/plain": [
       "         calories    protein        fat      sodium      fiber      carbo  \\\n",
       "count   77.000000  77.000000  77.000000   77.000000  77.000000  77.000000   \n",
       "mean   106.883117   2.545455   1.012987  159.675325   2.151948  14.597403   \n",
       "std     19.484119   1.094790   1.006473   83.832295   2.383364   4.278956   \n",
       "min     50.000000   1.000000   0.000000    0.000000   0.000000  -1.000000   \n",
       "25%    100.000000   2.000000   0.000000  130.000000   1.000000  12.000000   \n",
       "50%    110.000000   3.000000   1.000000  180.000000   2.000000  14.000000   \n",
       "75%    110.000000   3.000000   2.000000  210.000000   3.000000  17.000000   \n",
       "max    160.000000   6.000000   5.000000  320.000000  14.000000  23.000000   \n",
       "\n",
       "          sugars      potass    vitamins      shelf     weight       cups  \\\n",
       "count  77.000000   77.000000   77.000000  77.000000  77.000000  77.000000   \n",
       "mean    6.922078   96.077922   28.246753   2.207792   1.029610   0.821039   \n",
       "std     4.444885   71.286813   22.342523   0.832524   0.150477   0.232716   \n",
       "min    -1.000000   -1.000000    0.000000   1.000000   0.500000   0.250000   \n",
       "25%     3.000000   40.000000   25.000000   1.000000   1.000000   0.670000   \n",
       "50%     7.000000   90.000000   25.000000   2.000000   1.000000   0.750000   \n",
       "75%    11.000000  120.000000   25.000000   3.000000   1.000000   1.000000   \n",
       "max    15.000000  330.000000  100.000000   3.000000   1.500000   1.500000   \n",
       "\n",
       "          rating  \n",
       "count  77.000000  \n",
       "mean   42.665705  \n",
       "std    14.047289  \n",
       "min    18.042851  \n",
       "25%    33.174094  \n",
       "50%    40.400208  \n",
       "75%    50.828392  \n",
       "max    93.704912  "
      ]
     },
     "execution_count": 2,
     "metadata": {},
     "output_type": "execute_result"
    }
   ],
   "source": [
    "# look at dimension of the data for the number of rows and columns\n",
    "print(cereal.shape)\n",
    "\n",
    "# look at a summary of the numeric columns\n",
    "cereal.describe()\n"
   ]
  },
  {
   "cell_type": "code",
   "execution_count": 3,
   "metadata": {},
   "outputs": [
    {
     "data": {
      "text/html": [
       "<div>\n",
       "<style scoped>\n",
       "    .dataframe tbody tr th:only-of-type {\n",
       "        vertical-align: middle;\n",
       "    }\n",
       "\n",
       "    .dataframe tbody tr th {\n",
       "        vertical-align: top;\n",
       "    }\n",
       "\n",
       "    .dataframe thead th {\n",
       "        text-align: right;\n",
       "    }\n",
       "</style>\n",
       "<table border=\"1\" class=\"dataframe\">\n",
       "  <thead>\n",
       "    <tr style=\"text-align: right;\">\n",
       "      <th></th>\n",
       "      <th>name</th>\n",
       "      <th>mfr</th>\n",
       "      <th>type</th>\n",
       "      <th>calories</th>\n",
       "      <th>protein</th>\n",
       "      <th>fat</th>\n",
       "      <th>sodium</th>\n",
       "      <th>fiber</th>\n",
       "      <th>carbo</th>\n",
       "      <th>sugars</th>\n",
       "      <th>potass</th>\n",
       "      <th>vitamins</th>\n",
       "      <th>shelf</th>\n",
       "      <th>weight</th>\n",
       "      <th>cups</th>\n",
       "      <th>rating</th>\n",
       "    </tr>\n",
       "  </thead>\n",
       "  <tbody>\n",
       "    <tr>\n",
       "      <th>count</th>\n",
       "      <td>77</td>\n",
       "      <td>77</td>\n",
       "      <td>77</td>\n",
       "      <td>77.000000</td>\n",
       "      <td>77.000000</td>\n",
       "      <td>77.000000</td>\n",
       "      <td>77.000000</td>\n",
       "      <td>77.000000</td>\n",
       "      <td>77.000000</td>\n",
       "      <td>77.000000</td>\n",
       "      <td>77.000000</td>\n",
       "      <td>77.000000</td>\n",
       "      <td>77.000000</td>\n",
       "      <td>77.000000</td>\n",
       "      <td>77.000000</td>\n",
       "      <td>77.000000</td>\n",
       "    </tr>\n",
       "    <tr>\n",
       "      <th>unique</th>\n",
       "      <td>77</td>\n",
       "      <td>7</td>\n",
       "      <td>2</td>\n",
       "      <td>NaN</td>\n",
       "      <td>NaN</td>\n",
       "      <td>NaN</td>\n",
       "      <td>NaN</td>\n",
       "      <td>NaN</td>\n",
       "      <td>NaN</td>\n",
       "      <td>NaN</td>\n",
       "      <td>NaN</td>\n",
       "      <td>NaN</td>\n",
       "      <td>NaN</td>\n",
       "      <td>NaN</td>\n",
       "      <td>NaN</td>\n",
       "      <td>NaN</td>\n",
       "    </tr>\n",
       "    <tr>\n",
       "      <th>top</th>\n",
       "      <td>Kix</td>\n",
       "      <td>K</td>\n",
       "      <td>C</td>\n",
       "      <td>NaN</td>\n",
       "      <td>NaN</td>\n",
       "      <td>NaN</td>\n",
       "      <td>NaN</td>\n",
       "      <td>NaN</td>\n",
       "      <td>NaN</td>\n",
       "      <td>NaN</td>\n",
       "      <td>NaN</td>\n",
       "      <td>NaN</td>\n",
       "      <td>NaN</td>\n",
       "      <td>NaN</td>\n",
       "      <td>NaN</td>\n",
       "      <td>NaN</td>\n",
       "    </tr>\n",
       "    <tr>\n",
       "      <th>freq</th>\n",
       "      <td>1</td>\n",
       "      <td>23</td>\n",
       "      <td>74</td>\n",
       "      <td>NaN</td>\n",
       "      <td>NaN</td>\n",
       "      <td>NaN</td>\n",
       "      <td>NaN</td>\n",
       "      <td>NaN</td>\n",
       "      <td>NaN</td>\n",
       "      <td>NaN</td>\n",
       "      <td>NaN</td>\n",
       "      <td>NaN</td>\n",
       "      <td>NaN</td>\n",
       "      <td>NaN</td>\n",
       "      <td>NaN</td>\n",
       "      <td>NaN</td>\n",
       "    </tr>\n",
       "    <tr>\n",
       "      <th>mean</th>\n",
       "      <td>NaN</td>\n",
       "      <td>NaN</td>\n",
       "      <td>NaN</td>\n",
       "      <td>106.883117</td>\n",
       "      <td>2.545455</td>\n",
       "      <td>1.012987</td>\n",
       "      <td>159.675325</td>\n",
       "      <td>2.151948</td>\n",
       "      <td>14.597403</td>\n",
       "      <td>6.922078</td>\n",
       "      <td>96.077922</td>\n",
       "      <td>28.246753</td>\n",
       "      <td>2.207792</td>\n",
       "      <td>1.029610</td>\n",
       "      <td>0.821039</td>\n",
       "      <td>42.665705</td>\n",
       "    </tr>\n",
       "    <tr>\n",
       "      <th>std</th>\n",
       "      <td>NaN</td>\n",
       "      <td>NaN</td>\n",
       "      <td>NaN</td>\n",
       "      <td>19.484119</td>\n",
       "      <td>1.094790</td>\n",
       "      <td>1.006473</td>\n",
       "      <td>83.832295</td>\n",
       "      <td>2.383364</td>\n",
       "      <td>4.278956</td>\n",
       "      <td>4.444885</td>\n",
       "      <td>71.286813</td>\n",
       "      <td>22.342523</td>\n",
       "      <td>0.832524</td>\n",
       "      <td>0.150477</td>\n",
       "      <td>0.232716</td>\n",
       "      <td>14.047289</td>\n",
       "    </tr>\n",
       "    <tr>\n",
       "      <th>min</th>\n",
       "      <td>NaN</td>\n",
       "      <td>NaN</td>\n",
       "      <td>NaN</td>\n",
       "      <td>50.000000</td>\n",
       "      <td>1.000000</td>\n",
       "      <td>0.000000</td>\n",
       "      <td>0.000000</td>\n",
       "      <td>0.000000</td>\n",
       "      <td>-1.000000</td>\n",
       "      <td>-1.000000</td>\n",
       "      <td>-1.000000</td>\n",
       "      <td>0.000000</td>\n",
       "      <td>1.000000</td>\n",
       "      <td>0.500000</td>\n",
       "      <td>0.250000</td>\n",
       "      <td>18.042851</td>\n",
       "    </tr>\n",
       "    <tr>\n",
       "      <th>25%</th>\n",
       "      <td>NaN</td>\n",
       "      <td>NaN</td>\n",
       "      <td>NaN</td>\n",
       "      <td>100.000000</td>\n",
       "      <td>2.000000</td>\n",
       "      <td>0.000000</td>\n",
       "      <td>130.000000</td>\n",
       "      <td>1.000000</td>\n",
       "      <td>12.000000</td>\n",
       "      <td>3.000000</td>\n",
       "      <td>40.000000</td>\n",
       "      <td>25.000000</td>\n",
       "      <td>1.000000</td>\n",
       "      <td>1.000000</td>\n",
       "      <td>0.670000</td>\n",
       "      <td>33.174094</td>\n",
       "    </tr>\n",
       "    <tr>\n",
       "      <th>50%</th>\n",
       "      <td>NaN</td>\n",
       "      <td>NaN</td>\n",
       "      <td>NaN</td>\n",
       "      <td>110.000000</td>\n",
       "      <td>3.000000</td>\n",
       "      <td>1.000000</td>\n",
       "      <td>180.000000</td>\n",
       "      <td>2.000000</td>\n",
       "      <td>14.000000</td>\n",
       "      <td>7.000000</td>\n",
       "      <td>90.000000</td>\n",
       "      <td>25.000000</td>\n",
       "      <td>2.000000</td>\n",
       "      <td>1.000000</td>\n",
       "      <td>0.750000</td>\n",
       "      <td>40.400208</td>\n",
       "    </tr>\n",
       "    <tr>\n",
       "      <th>75%</th>\n",
       "      <td>NaN</td>\n",
       "      <td>NaN</td>\n",
       "      <td>NaN</td>\n",
       "      <td>110.000000</td>\n",
       "      <td>3.000000</td>\n",
       "      <td>2.000000</td>\n",
       "      <td>210.000000</td>\n",
       "      <td>3.000000</td>\n",
       "      <td>17.000000</td>\n",
       "      <td>11.000000</td>\n",
       "      <td>120.000000</td>\n",
       "      <td>25.000000</td>\n",
       "      <td>3.000000</td>\n",
       "      <td>1.000000</td>\n",
       "      <td>1.000000</td>\n",
       "      <td>50.828392</td>\n",
       "    </tr>\n",
       "    <tr>\n",
       "      <th>max</th>\n",
       "      <td>NaN</td>\n",
       "      <td>NaN</td>\n",
       "      <td>NaN</td>\n",
       "      <td>160.000000</td>\n",
       "      <td>6.000000</td>\n",
       "      <td>5.000000</td>\n",
       "      <td>320.000000</td>\n",
       "      <td>14.000000</td>\n",
       "      <td>23.000000</td>\n",
       "      <td>15.000000</td>\n",
       "      <td>330.000000</td>\n",
       "      <td>100.000000</td>\n",
       "      <td>3.000000</td>\n",
       "      <td>1.500000</td>\n",
       "      <td>1.500000</td>\n",
       "      <td>93.704912</td>\n",
       "    </tr>\n",
       "  </tbody>\n",
       "</table>\n",
       "</div>"
      ],
      "text/plain": [
       "       name  mfr type    calories    protein        fat      sodium  \\\n",
       "count    77   77   77   77.000000  77.000000  77.000000   77.000000   \n",
       "unique   77    7    2         NaN        NaN        NaN         NaN   \n",
       "top     Kix    K    C         NaN        NaN        NaN         NaN   \n",
       "freq      1   23   74         NaN        NaN        NaN         NaN   \n",
       "mean    NaN  NaN  NaN  106.883117   2.545455   1.012987  159.675325   \n",
       "std     NaN  NaN  NaN   19.484119   1.094790   1.006473   83.832295   \n",
       "min     NaN  NaN  NaN   50.000000   1.000000   0.000000    0.000000   \n",
       "25%     NaN  NaN  NaN  100.000000   2.000000   0.000000  130.000000   \n",
       "50%     NaN  NaN  NaN  110.000000   3.000000   1.000000  180.000000   \n",
       "75%     NaN  NaN  NaN  110.000000   3.000000   2.000000  210.000000   \n",
       "max     NaN  NaN  NaN  160.000000   6.000000   5.000000  320.000000   \n",
       "\n",
       "            fiber      carbo     sugars      potass    vitamins      shelf  \\\n",
       "count   77.000000  77.000000  77.000000   77.000000   77.000000  77.000000   \n",
       "unique        NaN        NaN        NaN         NaN         NaN        NaN   \n",
       "top           NaN        NaN        NaN         NaN         NaN        NaN   \n",
       "freq          NaN        NaN        NaN         NaN         NaN        NaN   \n",
       "mean     2.151948  14.597403   6.922078   96.077922   28.246753   2.207792   \n",
       "std      2.383364   4.278956   4.444885   71.286813   22.342523   0.832524   \n",
       "min      0.000000  -1.000000  -1.000000   -1.000000    0.000000   1.000000   \n",
       "25%      1.000000  12.000000   3.000000   40.000000   25.000000   1.000000   \n",
       "50%      2.000000  14.000000   7.000000   90.000000   25.000000   2.000000   \n",
       "75%      3.000000  17.000000  11.000000  120.000000   25.000000   3.000000   \n",
       "max     14.000000  23.000000  15.000000  330.000000  100.000000   3.000000   \n",
       "\n",
       "           weight       cups     rating  \n",
       "count   77.000000  77.000000  77.000000  \n",
       "unique        NaN        NaN        NaN  \n",
       "top           NaN        NaN        NaN  \n",
       "freq          NaN        NaN        NaN  \n",
       "mean     1.029610   0.821039  42.665705  \n",
       "std      0.150477   0.232716  14.047289  \n",
       "min      0.500000   0.250000  18.042851  \n",
       "25%      1.000000   0.670000  33.174094  \n",
       "50%      1.000000   0.750000  40.400208  \n",
       "75%      1.000000   1.000000  50.828392  \n",
       "max      1.500000   1.500000  93.704912  "
      ]
     },
     "execution_count": 3,
     "metadata": {},
     "output_type": "execute_result"
    }
   ],
   "source": [
    "# This version will show all the columns, including non-numeric\n",
    "cereal.describe(include=\"all\")"
   ]
  },
  {
   "cell_type": "markdown",
   "metadata": {},
   "source": [
    "---\n",
    "### Day 2: Plot a Numeric Variable with a Histogram\n",
    "<br>\n",
    "**What are we doing today?**\n",
    "\n",
    "Today we’re going to be plotting a numeric variable using a histogram. Numeric data is any type of data where what you’re measuring can be represented with a number–like height, weight, income, distance, or number of clicks. A histogram is a type of chart where the x-axis (along the bottom) is the range of numeric values of the variable, chopped up into a series of bins. For example, if the range of a value is from 0 to 12, it might be split into four bins, the first one being 1 through 3, the second being 4 through 6, the third 7 through 8, and the fourth 9 through 12. The y-axis (along the side) is the count of how many observations fall within each bin.\n",
    "\n",
    "**What data do you need?**\n",
    "\n",
    "For today’s challenge, you’re going to need a dataset with at least one numeric variable in it. (This just means that one of the columns in your dataframe will have numbers in it.)\n",
    "\n",
    "<br>"
   ]
  },
  {
   "cell_type": "code",
   "execution_count": 4,
   "metadata": {},
   "outputs": [
    {
     "data": {
      "text/plain": [
       "Index(['name', 'mfr', 'type', 'calories', 'protein', 'fat', 'sodium', 'fiber',\n",
       "       'carbo', 'sugars', 'potass', 'vitamins', 'shelf', 'weight', 'cups',\n",
       "       'rating'],\n",
       "      dtype='object')"
      ]
     },
     "execution_count": 4,
     "metadata": {},
     "output_type": "execute_result"
    }
   ],
   "source": [
    "# list all the column names\n",
    "cereal.columns"
   ]
  },
  {
   "cell_type": "code",
   "execution_count": 5,
   "metadata": {},
   "outputs": [
    {
     "name": "stdout",
     "output_type": "stream",
     "text": [
      "Missing values = 0\n"
     ]
    },
    {
     "data": {
      "text/plain": [
       "count     77.000000\n",
       "mean     159.675325\n",
       "std       83.832295\n",
       "min        0.000000\n",
       "25%      130.000000\n",
       "50%      180.000000\n",
       "75%      210.000000\n",
       "max      320.000000\n",
       "Name: sodium, dtype: float64"
      ]
     },
     "execution_count": 5,
     "metadata": {},
     "output_type": "execute_result"
    }
   ],
   "source": [
    "# get the sodium column\n",
    "sodium = cereal[\"sodium\"]\n",
    "\n",
    "# check for missing values\n",
    "print(\"Missing values = {}\".format(sodium.isnull().sum()))\n",
    "\n",
    "# summary of the sodium column\n",
    "sodium.describe()\n"
   ]
  },
  {
   "cell_type": "code",
   "execution_count": 6,
   "metadata": {},
   "outputs": [
    {
     "data": {
      "text/plain": [
       "Text(0,0.5,'Count')"
      ]
     },
     "execution_count": 6,
     "metadata": {},
     "output_type": "execute_result"
    },
    {
     "data": {
      "image/png": "[encoded data removed]",
      "text/plain": [
       "<matplotlib.figure.Figure at 0x26846d55c50>"
      ]
     },
     "metadata": {},
     "output_type": "display_data"
    }
   ],
   "source": [
    "# Plot a histogram of sodium content with nine bins\n",
    "# with black edge around the columns & at a larger size\n",
    "\n",
    "plt.figure(figsize = (12,12)) # set size at 12 inches x 12 inches\n",
    "plt.hist(sodium, bins=9, edgecolor = \"black\") # set nine bins and black edge\n",
    "plt.title(\"Sodium in 80 cereal products\") # add a title\n",
    "plt.xlabel(\"Sodium in milligrams\") # label the x axes \n",
    "plt.ylabel(\"Count\") # label the y axes"
   ]
  },
  {
   "cell_type": "code",
   "execution_count": 7,
   "metadata": {},
   "outputs": [
    {
     "data": {
      "text/plain": [
       "array([[<matplotlib.axes._subplots.AxesSubplot object at 0x0000026846D4F748>]],\n",
       "      dtype=object)"
      ]
     },
     "execution_count": 7,
     "metadata": {},
     "output_type": "execute_result"
    },
    {
     "data": {
      "image/png": "[encoded data removed]",
      "text/plain": [
       "<matplotlib.figure.Figure at 0x26846dfb9b0>"
      ]
     },
     "metadata": {},
     "output_type": "display_data"
    }
   ],
   "source": [
    "# another way of plotting a histogram (from the pandas plotting API)\n",
    "# figsize is an argument to make it bigger\n",
    "cereal.hist(column= \"sodium\", figsize = (12,12), bins=9, edgecolor = \"black\")"
   ]
  },
  {
   "cell_type": "markdown",
   "metadata": {},
   "source": [
    "---\n",
    "### Day 3: Perform a t-test\n",
    "<br>\n",
    "**What are we doing today?**\n",
    "\n",
    "Today, we’re going to answer a question: is a numeric variable different between two groups? To answer this question, we’re going to use a t-test.\n",
    "\n",
    "A t-test is a statistical test that can help us estimate whether the difference in a numerical measure between two groups is reliable. Because we’re comparing two groups to each other, we’re going to be using a special flavor of a t-test called an independent samples t-test. (You can do a t-test with only one sample, but you need to know what you’d expect the mean and standard deviation of the group you sampled it from to be.) If you want to compare more than two groups, you can use an extension of a t-test called an “Analysis of Variance” or “ANOVA”.\n",
    "\n",
    "A t-test will return a p-value. If a p-value is very low (generally below 0.01) this is evidence that it’s unlikely that we would have drawn our second sample from the same distribution as the first just by chance. For more information on t-tests, I’d recommend reading Chapter Five of OpenIntro Statistics 3rd Edition, which you can [download for free](https://www.openintro.org/stat/textbook.php?stat_book=os).\n",
    "\n",
    "\n",
    "**What data do you need?**\n",
    "\n",
    "For today’s challenge, you’re going to need a dataset that has at least one numerical variable it in that has been measured for two different groups. (If your dataset has more than two groups in it, you can always just pick two.) Here are a couple of datasets that will work well for today’s challenge:\n",
    "\n",
    "- [The cereals nutrition dataset](https://www.kaggle.com/crawford/80-cereals). You can look at whether there is the same amount of sugar or sodium in the two types of cereal (hot or cold).\n",
    "\n",
    "<br>"
   ]
  },
  {
   "cell_type": "code",
   "execution_count": 8,
   "metadata": {},
   "outputs": [
    {
     "data": {
      "text/plain": [
       "((array([-2.3672044 , -2.01892399, -1.81615497, -1.6685929 , -1.55038319,\n",
       "         -1.45056491, -1.36341252, -1.28553894, -1.2147656 , -1.14960406,\n",
       "         -1.08898961, -1.03213271, -0.97843053, -0.92741151, -0.87869918,\n",
       "         -0.8319877 , -0.78702477, -0.74359942, -0.70153318, -0.66067335,\n",
       "         -0.62088802, -0.5820622 , -0.54409476, -0.50689606, -0.47038604,\n",
       "         -0.43449267, -0.39915065, -0.36430042, -0.32988724, -0.29586046,\n",
       "         -0.26217291, -0.22878038, -0.19564108, -0.16271532, -0.12996506,\n",
       "         -0.09735365, -0.06484548, -0.0324057 ,  0.        ,  0.0324057 ,\n",
       "          0.06484548,  0.09735365,  0.12996506,  0.16271532,  0.19564108,\n",
       "          0.22878038,  0.26217291,  0.29586046,  0.32988724,  0.36430042,\n",
       "          0.39915065,  0.43449267,  0.47038604,  0.50689606,  0.54409476,\n",
       "          0.5820622 ,  0.62088802,  0.66067335,  0.70153318,  0.74359942,\n",
       "          0.78702477,  0.8319877 ,  0.87869918,  0.92741151,  0.97843053,\n",
       "          1.03213271,  1.08898961,  1.14960406,  1.2147656 ,  1.28553894,\n",
       "          1.36341252,  1.45056491,  1.55038319,  1.6685929 ,  1.81615497,\n",
       "          2.01892399,  2.3672044 ]),\n",
       "  array([  0,   0,   0,   0,   0,   0,   0,   0,   0,  15,  15,  45,  70,\n",
       "          75,  80,  90,  95, 125, 125, 130, 135, 135, 140, 140, 140, 140,\n",
       "         140, 140, 140, 150, 150, 150, 160, 170, 170, 170, 170, 170, 180,\n",
       "         180, 180, 180, 180, 190, 190, 190, 200, 200, 200, 200, 200, 200,\n",
       "         200, 200, 210, 210, 210, 210, 220, 220, 220, 220, 220, 230, 230,\n",
       "         240, 240, 250, 250, 260, 260, 280, 280, 290, 290, 290, 320],\n",
       "        dtype=int64)),\n",
       " (82.64670675777266, 159.67532467532465, 0.9676059304411793))"
      ]
     },
     "execution_count": 8,
     "metadata": {},
     "output_type": "execute_result"
    },
    {
     "data": {
      "image/png": "[encoded data removed]",
      "text/plain": [
       "<matplotlib.figure.Figure at 0x268470e3978>"
      ]
     },
     "metadata": {},
     "output_type": "display_data"
    }
   ],
   "source": [
    "# import libraries\n",
    "from scipy.stats import ttest_ind # just the t-test from scipy.stats\n",
    "from scipy.stats import probplot # for a qqplot\n",
    "import pylab # for the probability plot \n",
    "\n",
    "# We should make sure that the variable is normally distributed\n",
    "# so let's use a qq-polt to do that\n",
    "\n",
    "# plot a qqplot to check normality. If the variable is normally distributed, most of the points \n",
    "# should be along the center diagonal.\n",
    "probplot(cereal[\"sodium\"], dist=\"norm\", plot=pylab)"
   ]
  },
  {
   "cell_type": "code",
   "execution_count": 9,
   "metadata": {},
   "outputs": [
    {
     "data": {
      "text/plain": [
       "Ttest_indResult(statistic=-4.896357618932593, pvalue=0.02411482081945822)"
      ]
     },
     "execution_count": 9,
     "metadata": {},
     "output_type": "execute_result"
    }
   ],
   "source": [
    "# Preform our t-test\n",
    "\n",
    "# get the sodium for hot ceareals\n",
    "hotCereals = cereal[\"sodium\"][cereal[\"type\"] == \"H\"]\n",
    "\n",
    "# get the sodium for cold ceareals\n",
    "coldCereals = cereal[\"sodium\"][cereal[\"type\"] == \"C\"]\n",
    "\n",
    "# compare them\n",
    "ttest_ind(hotCereals, coldCereals, equal_var=False)"
   ]
  },
  {
   "cell_type": "markdown",
   "metadata": {},
   "source": [
    "*__Analysis__*: So, if we decided to set our alpha (the highest p-value that would still allow us to reject the null) to 0.05 before we started, we would reject the null (i.e. can be pretty sure that there's *not* not a difference between these two groups). Statistic is the actual value of the t-test, and the pvalue is the probability that we saw a difference this large between our two groups just due to chance if they were actually drawn from the same underlying population.\n",
    "\n",
    "<br>"
   ]
  },
  {
   "cell_type": "code",
   "execution_count": 10,
   "metadata": {},
   "outputs": [
    {
     "name": "stdout",
     "output_type": "stream",
     "text": [
      "Mean sodium for the hot cereals: 26.666666666666668\n",
      "Mean sodium for the cold cereals: 165.06756756756758\n"
     ]
    }
   ],
   "source": [
    "# let's look at the means (averages) of each group to see which is larger\n",
    "print(\"Mean sodium for the hot cereals: {}\".format(hotCereals.mean()))\n",
    "\n",
    "print(\"Mean sodium for the cold cereals: {}\".format(coldCereals.mean()))"
   ]
  },
  {
   "cell_type": "markdown",
   "metadata": {},
   "source": [
    "*__Analysis__*: The mean sodium for cold cereals (165.07mg) is much higher than hot cereals (26.67mg)\n",
    "\n",
    "<br>"
   ]
  },
  {
   "cell_type": "code",
   "execution_count": 11,
   "metadata": {},
   "outputs": [
    {
     "data": {
      "text/plain": [
       "Text(0.5,1,'Sodium(mg) content of cereals by type')"
      ]
     },
     "execution_count": 11,
     "metadata": {},
     "output_type": "execute_result"
    },
    {
     "data": {
      "image/png": "[encoded data removed]",
      "text/plain": [
       "<matplotlib.figure.Figure at 0x268470f49b0>"
      ]
     },
     "metadata": {},
     "output_type": "display_data"
    }
   ],
   "source": [
    "# Now plot for the two cereal types, with each as a different color\n",
    "# alpha sets that transparency of a plot. 0 = completely transparent (you won't see it), 1 = completely opaque (you can't see through it)\n",
    "# I set it 0.5 here so that the values of the two plots will be different and it'll be easier to tell them apart\n",
    "\n",
    "# plot the cold cereals\n",
    "plt.hist(coldCereals, alpha=0.5, label='cold', edgecolor = \"black\")\n",
    "\n",
    "# and the hot cereals\n",
    "plt.hist(hotCereals, label='hot', edgecolor = \"black\")\n",
    "\n",
    "# and add a legend\n",
    "plt.legend(loc='upper right')\n",
    "\n",
    "# add a title\n",
    "plt.title(\"Sodium(mg) content of cereals by type\")"
   ]
  },
  {
   "cell_type": "markdown",
   "metadata": {},
   "source": [
    "---\n",
    "### Day 4: Visualize categorical data with a bar chart\n",
    "<br>\n",
    "**What are we doing today?**\n",
    "\n",
    "Today, we’re going to take a break from numeric data and turn to categorical data.\n",
    "\n",
    "Categorical data is a data type containing information that categorizes where other data points are from. Example categories are things like t-shirt size, zip code, dog breed, whether someone is a repeat customer, level of education or hair color.\n",
    "\n",
    "We’re going to visualize categorical data using a bar chart. In a bar chart, each category is represented as a different bar, and the height of the bar indicates the count of items in that category.\n",
    "\n",
    "**What data do you need?**\n",
    "\n",
    "For this challenge, you’re going to need a dataset with a categorical variable in it. You can find a list of some datasets with at least one categorical variable here.\n",
    "\n",
    "<br>"
   ]
  },
  {
   "cell_type": "code",
   "execution_count": 12,
   "metadata": {},
   "outputs": [
    {
     "data": {
      "text/html": [
       "<div>\n",
       "<style scoped>\n",
       "    .dataframe tbody tr th:only-of-type {\n",
       "        vertical-align: middle;\n",
       "    }\n",
       "\n",
       "    .dataframe tbody tr th {\n",
       "        vertical-align: top;\n",
       "    }\n",
       "\n",
       "    .dataframe thead th {\n",
       "        text-align: right;\n",
       "    }\n",
       "</style>\n",
       "<table border=\"1\" class=\"dataframe\">\n",
       "  <thead>\n",
       "    <tr style=\"text-align: right;\">\n",
       "      <th></th>\n",
       "      <th>Have you ever taken a course in statistics?</th>\n",
       "      <th>Do you have any previous experience with programming?</th>\n",
       "      <th>What's your interest in data science?</th>\n",
       "      <th>Just for fun, do you prefer dogs or cat?</th>\n",
       "    </tr>\n",
       "  </thead>\n",
       "  <tbody>\n",
       "    <tr>\n",
       "      <th>0</th>\n",
       "      <td>Yep</td>\n",
       "      <td>Nope</td>\n",
       "      <td>I want to get a job where I use data science</td>\n",
       "      <td>Cats ?±</td>\n",
       "    </tr>\n",
       "    <tr>\n",
       "      <th>1</th>\n",
       "      <td>Yep</td>\n",
       "      <td>I have quite a bit of experience</td>\n",
       "      <td>I want to get a job where I use data science</td>\n",
       "      <td>Dogs ?¶</td>\n",
       "    </tr>\n",
       "    <tr>\n",
       "      <th>2</th>\n",
       "      <td>Yep</td>\n",
       "      <td>I have a little bit of experience</td>\n",
       "      <td>It will help me in my current job</td>\n",
       "      <td>Dogs ?¶</td>\n",
       "    </tr>\n",
       "    <tr>\n",
       "      <th>3</th>\n",
       "      <td>Nope</td>\n",
       "      <td>I have a little bit of experience</td>\n",
       "      <td>Just curious</td>\n",
       "      <td>Cats ?±</td>\n",
       "    </tr>\n",
       "    <tr>\n",
       "      <th>4</th>\n",
       "      <td>Yes, but I've forgotten everything</td>\n",
       "      <td>I have quite a bit of experience</td>\n",
       "      <td>I want to get a job where I use data science</td>\n",
       "      <td>Neither ?…</td>\n",
       "    </tr>\n",
       "  </tbody>\n",
       "</table>\n",
       "</div>"
      ],
      "text/plain": [
       "  Have you ever taken a course in statistics?  \\\n",
       "0                                         Yep   \n",
       "1                                         Yep   \n",
       "2                                         Yep   \n",
       "3                                        Nope   \n",
       "4          Yes, but I've forgotten everything   \n",
       "\n",
       "  Do you have any previous experience with programming?  \\\n",
       "0                                               Nope      \n",
       "1                   I have quite a bit of experience      \n",
       "2                  I have a little bit of experience      \n",
       "3                  I have a little bit of experience      \n",
       "4                   I have quite a bit of experience      \n",
       "\n",
       "          What's your interest in data science?  \\\n",
       "0  I want to get a job where I use data science   \n",
       "1  I want to get a job where I use data science   \n",
       "2             It will help me in my current job   \n",
       "3                                  Just curious   \n",
       "4  I want to get a job where I use data science   \n",
       "\n",
       "  Just for fun, do you prefer dogs or cat?  \n",
       "0                                  Cats ?±  \n",
       "1                                  Dogs ?¶  \n",
       "2                                  Dogs ?¶  \n",
       "3                                  Cats ?±  \n",
       "4                               Neither ?…  "
      ]
     },
     "execution_count": 12,
     "metadata": {},
     "output_type": "execute_result"
    }
   ],
   "source": [
    "# read in our data\n",
    "survey = pd.read_csv(\"data/anonymous-survey-responses.csv\")\n",
    "\n",
    "# look at the first few rows\n",
    "survey.head()"
   ]
  },
  {
   "cell_type": "code",
   "execution_count": 13,
   "metadata": {},
   "outputs": [
    {
     "name": "stdout",
     "output_type": "stream",
     "text": [
      "(1249, 4)\n",
      "Index(['Have you ever taken a course in statistics?',\n",
      "       'Do you have any previous experience with programming?',\n",
      "       'What's your interest in data science?',\n",
      "       'Just for fun, do you prefer dogs or cat?'],\n",
      "      dtype='object')\n"
     ]
    },
    {
     "data": {
      "text/html": [
       "<div>\n",
       "<style scoped>\n",
       "    .dataframe tbody tr th:only-of-type {\n",
       "        vertical-align: middle;\n",
       "    }\n",
       "\n",
       "    .dataframe tbody tr th {\n",
       "        vertical-align: top;\n",
       "    }\n",
       "\n",
       "    .dataframe thead th {\n",
       "        text-align: right;\n",
       "    }\n",
       "</style>\n",
       "<table border=\"1\" class=\"dataframe\">\n",
       "  <thead>\n",
       "    <tr style=\"text-align: right;\">\n",
       "      <th></th>\n",
       "      <th>Have you ever taken a course in statistics?</th>\n",
       "      <th>Do you have any previous experience with programming?</th>\n",
       "      <th>What's your interest in data science?</th>\n",
       "      <th>Just for fun, do you prefer dogs or cat?</th>\n",
       "    </tr>\n",
       "  </thead>\n",
       "  <tbody>\n",
       "    <tr>\n",
       "      <th>count</th>\n",
       "      <td>1249</td>\n",
       "      <td>1249</td>\n",
       "      <td>1249</td>\n",
       "      <td>1249</td>\n",
       "    </tr>\n",
       "    <tr>\n",
       "      <th>unique</th>\n",
       "      <td>3</td>\n",
       "      <td>5</td>\n",
       "      <td>4</td>\n",
       "      <td>4</td>\n",
       "    </tr>\n",
       "    <tr>\n",
       "      <th>top</th>\n",
       "      <td>Yep</td>\n",
       "      <td>I have quite a bit of experience</td>\n",
       "      <td>I want to get a job where I use data science</td>\n",
       "      <td>Dogs ?¶</td>\n",
       "    </tr>\n",
       "    <tr>\n",
       "      <th>freq</th>\n",
       "      <td>554</td>\n",
       "      <td>528</td>\n",
       "      <td>841</td>\n",
       "      <td>613</td>\n",
       "    </tr>\n",
       "  </tbody>\n",
       "</table>\n",
       "</div>"
      ],
      "text/plain": [
       "       Have you ever taken a course in statistics?  \\\n",
       "count                                         1249   \n",
       "unique                                           3   \n",
       "top                                            Yep   \n",
       "freq                                           554   \n",
       "\n",
       "       Do you have any previous experience with programming?  \\\n",
       "count                                                1249      \n",
       "unique                                                  5      \n",
       "top                      I have quite a bit of experience      \n",
       "freq                                                  528      \n",
       "\n",
       "               What's your interest in data science?  \\\n",
       "count                                           1249   \n",
       "unique                                             4   \n",
       "top     I want to get a job where I use data science   \n",
       "freq                                             841   \n",
       "\n",
       "       Just for fun, do you prefer dogs or cat?  \n",
       "count                                      1249  \n",
       "unique                                        4  \n",
       "top                                     Dogs ?¶  \n",
       "freq                                        613  "
      ]
     },
     "execution_count": 13,
     "metadata": {},
     "output_type": "execute_result"
    }
   ],
   "source": [
    "# look at the dimension of the data \n",
    "print(survey.shape)\n",
    "\n",
    "# look at the columns\n",
    "print(survey.columns)\n",
    "\n",
    "# look at a summary of the numeric columns\n",
    "survey.describe()"
   ]
  },
  {
   "cell_type": "markdown",
   "metadata": {},
   "source": [
    "Plot a barchart using matplotlib. You will need to pass the function the following things:\n",
    "\n",
    "-    The positions where the bars should be (as a list of numbers, e.g. [1, 2, 3])\n",
    "-    The counts for each bar in order, also as a list of numbers\n",
    "-    The labels for each bar in order, as a list of words, to be added after the bars are plotting using plt.xticks\n",
    "\n",
    "The first half of this cell is for the data preperation and the last three lines are the actual plotting.\n",
    "\n",
    "<br>"
   ]
  },
  {
   "cell_type": "code",
   "execution_count": 14,
   "metadata": {},
   "outputs": [
    {
     "data": {
      "text/plain": [
       "Text(0.5,1,'Pet Preferences')"
      ]
     },
     "execution_count": 14,
     "metadata": {},
     "output_type": "execute_result"
    },
    {
     "data": {
      "image/png": "[encoded data removed]",
      "text/plain": [
       "<matplotlib.figure.Figure at 0x26849494278>"
      ]
     },
     "metadata": {},
     "output_type": "display_data"
    }
   ],
   "source": [
    "# Matplotlib is a little bit involved, so we need to do quite a bit of \n",
    "# data manipulation before we can make our bar chart\n",
    "\n",
    "## data preparation\n",
    "\n",
    "# count how often each pet preference is observed \n",
    "petFreqTable = survey[\"Just for fun, do you prefer dogs or cat?\"].value_counts()\n",
    "\n",
    "# just FYI: this will get us a list of the names\n",
    "list(petFreqTable.index)\n",
    "# just FYI: this will get us a list of the counts\n",
    "petFreqTable.values\n",
    "\n",
    "# get all the name from our frequency plot & save them for later\n",
    "labels = list(petFreqTable.index)\n",
    "\n",
    "# generate a list of numbers as long as our number of labels\n",
    "positionsForBars = list(range(len(labels)))\n",
    "\n",
    "# actual plotting\n",
    "\n",
    "# pass the names and counts to the bar function\n",
    "plt.bar(positionsForBars, petFreqTable.values) # plot our bars\n",
    "plt.xticks(positionsForBars, labels) # add lables\n",
    "plt.title(\"Pet Preferences\")"
   ]
  },
  {
   "cell_type": "code",
   "execution_count": 15,
   "metadata": {},
   "outputs": [
    {
     "data": {
      "text/plain": [
       "Text(0.5,1,'Dogs vs. Cats')"
      ]
     },
     "execution_count": 15,
     "metadata": {},
     "output_type": "execute_result"
    },
    {
     "data": {
      "image/png": "[encoded data removed]",
      "text/plain": [
       "<matplotlib.figure.Figure at 0x26845202f28>"
      ]
     },
     "metadata": {},
     "output_type": "display_data"
    }
   ],
   "source": [
    "# Another option for plotting is the seaborn package, which is much more streamlined, as you can see.\n",
    "\n",
    "# We can also use the seaborn package to plot\n",
    "\n",
    "# import seaborn and alias it as sns\n",
    "import seaborn as sns\n",
    "\n",
    "# make a barplot from a column in our dataframe\n",
    "sns.countplot(survey[\"Just for fun, do you prefer dogs or cat?\"]).set_title(\"Dogs vs. Cats\")"
   ]
  },
  {
   "cell_type": "code",
   "execution_count": 16,
   "metadata": {},
   "outputs": [
    {
     "data": {
      "text/plain": [
       "<matplotlib.axes._subplots.AxesSubplot at 0x26849839358>"
      ]
     },
     "execution_count": 16,
     "metadata": {},
     "output_type": "execute_result"
    },
    {
     "data": {
      "image/png": "[encoded data removed]",
      "text/plain": [
       "<matplotlib.figure.Figure at 0x268497ebf60>"
      ]
     },
     "metadata": {},
     "output_type": "display_data"
    }
   ],
   "source": [
    "# we can also create multiple plots in a single cell\n",
    "fig, ax = plt.subplots(figsize=(14,8), ncols=2, nrows=2)\n",
    "plt.subplots_adjust(wspace = .4, hspace = 0.5)\n",
    "plt.suptitle(\"Visualization of Survey Results\", y = 1, fontsize=20)\n",
    "sns.countplot(survey[\"Just for fun, do you prefer dogs or cat?\"], ax=ax[0][0])\n",
    "sns.countplot(survey[\"Have you ever taken a course in statistics?\"], ax=ax[0][1])\n",
    "sns.countplot(survey[\"What's your interest in data science?\"], ax=ax[1][0])\n",
    "sns.countplot(survey[\"Do you have any previous experience with programming?\"], ax=ax[1][1])"
   ]
  },
  {
   "cell_type": "markdown",
   "metadata": {},
   "source": [
    "---\n",
    "### Day 5: Using a Chi-Square Test\n",
    "<br>\n",
    "**What are we doing today?**\n",
    "\n",
    "Is the difference in the number of observations across different groups just the result of random variation? Or does it reflect an underlying difference between the two groups?\n",
    "\n",
    "For example, we might have red and green apples, some of which are bruised and some which are not. Are apples of one color more likely to be bruised? We can figure out if one color of apple is more likely to bruise using the chi-square test (also written as Χ^2).\n",
    "\n",
    "**What data do you need?**\n",
    "\n",
    "For this challenge, you’re going to need a dataset with at least two categorical variables in it. (Just like yesterday.)\n",
    "\n",
    "<br>"
   ]
  },
  {
   "cell_type": "code",
   "execution_count": 17,
   "metadata": {},
   "outputs": [
    {
     "data": {
      "text/plain": [
       "Power_divergenceResult(statistic=108.50120096076861, pvalue=2.7495623442639547e-24)"
      ]
     },
     "execution_count": 17,
     "metadata": {},
     "output_type": "execute_result"
    }
   ],
   "source": [
    "# I'm interested in finding out if there's a relationship between having programming background and having taken statistics\n",
    "# Now let's do a chi-square test! The chisquare function from scipy.stats will only do a one-way comparison, so let's start with that.\n",
    "\n",
    "# import our libraries\n",
    "import scipy.stats # statistics\n",
    "\n",
    "scipy.stats.chisquare(survey[\"Have you ever taken a course in statistics?\"].value_counts())"
   ]
  },
  {
   "cell_type": "markdown",
   "metadata": {},
   "source": [
    "*__Analysis:__* Statistic here is the chi-square value (larger = more difference from a uniform distrobution) and pvalue is the p-value, which is very low here.\n",
    "\n",
    "<br>"
   ]
  },
  {
   "cell_type": "code",
   "execution_count": 18,
   "metadata": {},
   "outputs": [
    {
     "data": {
      "text/plain": [
       "Power_divergenceResult(statistic=906.2001601281024, pvalue=7.55591487886036e-195)"
      ]
     },
     "execution_count": 18,
     "metadata": {},
     "output_type": "execute_result"
    }
   ],
   "source": [
    "# first let's do a one-way chi-squared test for programming background\n",
    "scipy.stats.chisquare(survey[\"Do you have any previous experience with programming?\"].value_counts())"
   ]
  },
  {
   "cell_type": "markdown",
   "metadata": {},
   "source": [
    "*__Analysis:__* And, again, our p-value is very low. This means that we can be sure, for both these questions, that the people who answered them are not drawn from a pool of people who are uniformly likely to have chosen each answer.\n",
    "\n",
    "Now let's do a two-way comparison. Is there a relationship between having programming background and having taken statistics?\n",
    "\n",
    "<br>"
   ]
  },
  {
   "cell_type": "code",
   "execution_count": 19,
   "metadata": {},
   "outputs": [
    {
     "data": {
      "text/plain": [
       "(16.827631021435366,\n",
       " 0.03195483698199162,\n",
       " 8,\n",
       " array([[ 94.48839071, 204.47878303, 162.03282626],\n",
       "        [  0.40992794,   0.88710969,   0.70296237],\n",
       "        [ 43.45236189,  94.0336269 ,  74.51401121],\n",
       "        [108.22097678, 234.19695757, 185.58206565],\n",
       "        [  9.42834267,  20.40352282,  16.16813451]]))"
      ]
     },
     "execution_count": 19,
     "metadata": {},
     "output_type": "execute_result"
    }
   ],
   "source": [
    "# now let's do a two-way chi-square test. Is there a relationship between programming background \n",
    "# and stats background?\n",
    "\n",
    "contingencyTable = pd.crosstab(survey[\"Do you have any previous experience with programming?\"],\n",
    "                              survey[\"Have you ever taken a course in statistics?\"])\n",
    "\n",
    "scipy.stats.chi2_contingency(contingencyTable)"
   ]
  },
  {
   "cell_type": "markdown",
   "metadata": {},
   "source": [
    "*__Analysis:__* Here, the first value (16.827) is the χ2 value, the second value (0.032) is the p-value and the third value (8) is the degrees of freedom. Since our p-value is under our alpha of 0.05, we can say that it seems unlikely that there isn't a connection between these two things, right?\n",
    "\n",
    "BUT! Becuase we have preformed three tests of statistical significance we need to correct for the fact that the probability that we're going to get a significant effect just by chance increases with each test. (If you set your alpha to 0.05, you'll be wrong just by chance 1/20 times, so if you preform 20 test you're very likely to get the wrong answer on one of them & you need to correct for that.) We can do by dividing our alpha by x, where x is the number of tests we have preformed. So in this case, our p-value would have to be below a value of 0.016 to have an overall alphs of 0.05.\n",
    "\n",
    "TL;DR because we did three tests, this final result is not significant at alpha = 0.05."
   ]
  },
  {
   "cell_type": "code",
   "execution_count": null,
   "metadata": {},
   "outputs": [],
   "source": []
  }
 ],
 "metadata": {
  "kernelspec": {
   "display_name": "Python 3",
   "language": "python",
   "name": "python3"
  },
  "language_info": {
   "codemirror_mode": {
    "name": "ipython",
    "version": 3
   },
   "file_extension": ".py",
   "mimetype": "text/x-python",
   "name": "python",
   "nbconvert_exporter": "python",
   "pygments_lexer": "ipython3",
   "version": "3.6.4"
  }
 },
 "nbformat": 4,
 "nbformat_minor": 2
}
